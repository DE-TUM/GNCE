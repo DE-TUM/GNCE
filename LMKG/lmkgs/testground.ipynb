{
 "cells": [
  {
   "cell_type": "code",
   "execution_count": 104,
   "id": "010d1508",
   "metadata": {},
   "outputs": [],
   "source": [
    "from query_graph import QueryGraph\n",
    "import pandas as pd\n",
    "from tqdm import tqdm\n",
    "from rdflib import Graph, URIRef, Literal, BNode\n",
    "from rdflib.namespace import FOAF, RDF\n",
    "import json"
   ]
  },
  {
   "cell_type": "code",
   "execution_count": 68,
   "id": "11a27971",
   "metadata": {},
   "outputs": [],
   "source": [
    "query = [[\"?x\", \"2\", \"2\"],\n",
    "        [\"?x\", \"2\", \"3\"]]"
   ]
  },
  {
   "cell_type": "code",
   "execution_count": 73,
   "id": "5d8f75ca",
   "metadata": {},
   "outputs": [],
   "source": [
    "g = QueryGraph(3, 2, 3, 1)"
   ]
  },
  {
   "cell_type": "code",
   "execution_count": 74,
   "id": "b7dfda93",
   "metadata": {},
   "outputs": [],
   "source": [
    "g.cardinality = 4\n",
    "for q in query:\n",
    "    g.add_triple(q)"
   ]
  },
  {
   "cell_type": "code",
   "execution_count": 75,
   "id": "24f8c409",
   "metadata": {},
   "outputs": [
    {
     "data": {
      "text/plain": [
       "<query_graph.QueryGraph at 0x7ff0dc082bd0>"
      ]
     },
     "execution_count": 75,
     "metadata": {},
     "output_type": "execute_result"
    }
   ],
   "source": [
    "g"
   ]
  },
  {
   "cell_type": "code",
   "execution_count": 76,
   "id": "60f712eb",
   "metadata": {},
   "outputs": [
    {
     "data": {
      "text/plain": [
       "(array([[0, 1, 0],\n",
       "        [0, 1, 1],\n",
       "        [0, 0, 0]], dtype=uint8),\n",
       " array([[1, 0]], dtype=uint8),\n",
       " array([[[0, 0, 0],\n",
       "         [0, 0, 0],\n",
       "         [1, 1, 0]]], dtype=uint8),\n",
       " 4)"
      ]
     },
     "execution_count": 76,
     "metadata": {},
     "output_type": "execute_result"
    }
   ],
   "source": [
    "g.create_graph()"
   ]
  },
  {
   "cell_type": "code",
   "execution_count": 58,
   "id": "32c9fdbc",
   "metadata": {},
   "outputs": [
    {
     "name": "stdout",
     "output_type": "stream",
     "text": [
      "Nodes {'?x', '3', '2'}, Edges {'1'}, Triples [['?x', '1', '2'], ['?x', '1', '3']]\n"
     ]
    }
   ],
   "source": [
    "g.print()"
   ]
  },
  {
   "cell_type": "markdown",
   "id": "f948ebae",
   "metadata": {},
   "source": [
    "## Transform kg triple file\n"
   ]
  },
  {
   "cell_type": "code",
   "execution_count": 59,
   "id": "00db5a28",
   "metadata": {},
   "outputs": [],
   "source": [
    "file = open(\"/home/tim/cardinality_estimator/Freebase/train.txt\")\n",
    "lines = file.readlines()"
   ]
  },
  {
   "cell_type": "code",
   "execution_count": 83,
   "id": "afde4a53",
   "metadata": {},
   "outputs": [
    {
     "name": "stderr",
     "output_type": "stream",
     "text": [
      "100%|█████████████████████████████████████████████████████████████████████████████████████████████████████████████████████████████████████████████████████████████████████████████████| 272115/272115 [13:27<00:00, 336.99it/s]\n"
     ]
    }
   ],
   "source": [
    "mapping = {}\n",
    "df = pd.DataFrame(columns=[\"s\",\"p\",\"o\"])\n",
    "node_counter = 0\n",
    "predicate_counter = 0\n",
    "for line in tqdm(lines):\n",
    "    els = line.split()\n",
    "    # Map the terms to ints, if not happened already\n",
    "    if not els[0] in mapping:\n",
    "        mapping[els[0]] = node_counter\n",
    "        node_counter += 1\n",
    "    if not els[1] in mapping:\n",
    "        mapping[els[1]] = predicate_counter\n",
    "        predicate_counter += 1\n",
    "    if not els[2] in mapping:\n",
    "        mapping[els[2]] = node_counter\n",
    "        node_counter += 1\n",
    "    df = df.append({\"s\": mapping[els[0]], \"p\": mapping[els[1]], \"o\": mapping[els[2]]}, ignore_index=True)\n",
    "        \n",
    "    \n"
   ]
  },
  {
   "cell_type": "code",
   "execution_count": 108,
   "id": "a07297fa",
   "metadata": {
    "scrolled": false
   },
   "outputs": [
    {
     "data": {
      "text/html": [
       "<div>\n",
       "<style scoped>\n",
       "    .dataframe tbody tr th:only-of-type {\n",
       "        vertical-align: middle;\n",
       "    }\n",
       "\n",
       "    .dataframe tbody tr th {\n",
       "        vertical-align: top;\n",
       "    }\n",
       "\n",
       "    .dataframe thead th {\n",
       "        text-align: right;\n",
       "    }\n",
       "</style>\n",
       "<table border=\"1\" class=\"dataframe\">\n",
       "  <thead>\n",
       "    <tr style=\"text-align: right;\">\n",
       "      <th></th>\n",
       "      <th>s</th>\n",
       "      <th>p</th>\n",
       "      <th>o</th>\n",
       "    </tr>\n",
       "  </thead>\n",
       "  <tbody>\n",
       "    <tr>\n",
       "      <th>0</th>\n",
       "      <td>0</td>\n",
       "      <td>0</td>\n",
       "      <td>1</td>\n",
       "    </tr>\n",
       "    <tr>\n",
       "      <th>1</th>\n",
       "      <td>2</td>\n",
       "      <td>1</td>\n",
       "      <td>3</td>\n",
       "    </tr>\n",
       "    <tr>\n",
       "      <th>2</th>\n",
       "      <td>4</td>\n",
       "      <td>2</td>\n",
       "      <td>5</td>\n",
       "    </tr>\n",
       "    <tr>\n",
       "      <th>3</th>\n",
       "      <td>6</td>\n",
       "      <td>3</td>\n",
       "      <td>7</td>\n",
       "    </tr>\n",
       "    <tr>\n",
       "      <th>4</th>\n",
       "      <td>8</td>\n",
       "      <td>4</td>\n",
       "      <td>9</td>\n",
       "    </tr>\n",
       "    <tr>\n",
       "      <th>...</th>\n",
       "      <td>...</td>\n",
       "      <td>...</td>\n",
       "      <td>...</td>\n",
       "    </tr>\n",
       "    <tr>\n",
       "      <th>272110</th>\n",
       "      <td>7701</td>\n",
       "      <td>11</td>\n",
       "      <td>23</td>\n",
       "    </tr>\n",
       "    <tr>\n",
       "      <th>272111</th>\n",
       "      <td>2483</td>\n",
       "      <td>20</td>\n",
       "      <td>2423</td>\n",
       "    </tr>\n",
       "    <tr>\n",
       "      <th>272112</th>\n",
       "      <td>6954</td>\n",
       "      <td>170</td>\n",
       "      <td>8974</td>\n",
       "    </tr>\n",
       "    <tr>\n",
       "      <th>272113</th>\n",
       "      <td>3818</td>\n",
       "      <td>30</td>\n",
       "      <td>7570</td>\n",
       "    </tr>\n",
       "    <tr>\n",
       "      <th>272114</th>\n",
       "      <td>10244</td>\n",
       "      <td>38</td>\n",
       "      <td>8396</td>\n",
       "    </tr>\n",
       "  </tbody>\n",
       "</table>\n",
       "<p>272115 rows × 3 columns</p>\n",
       "</div>"
      ],
      "text/plain": [
       "            s    p     o\n",
       "0           0    0     1\n",
       "1           2    1     3\n",
       "2           4    2     5\n",
       "3           6    3     7\n",
       "4           8    4     9\n",
       "...       ...  ...   ...\n",
       "272110   7701   11    23\n",
       "272111   2483   20  2423\n",
       "272112   6954  170  8974\n",
       "272113   3818   30  7570\n",
       "272114  10244   38  8396\n",
       "\n",
       "[272115 rows x 3 columns]"
      ]
     },
     "execution_count": 108,
     "metadata": {},
     "output_type": "execute_result"
    }
   ],
   "source": [
    "df"
   ]
  },
  {
   "cell_type": "code",
   "execution_count": 111,
   "id": "bf483fa8",
   "metadata": {},
   "outputs": [
    {
     "data": {
      "text/plain": [
       "236"
      ]
     },
     "execution_count": 111,
     "metadata": {},
     "output_type": "execute_result"
    }
   ],
   "source": [
    "df[\"p\"].max()"
   ]
  },
  {
   "cell_type": "code",
   "execution_count": 102,
   "id": "23bf03c8",
   "metadata": {},
   "outputs": [
    {
     "name": "stderr",
     "output_type": "stream",
     "text": [
      "272115it [00:12, 22120.01it/s]\n"
     ]
    }
   ],
   "source": [
    "g = Graph()\n",
    "\n",
    "for idx, row in tqdm(df.iterrows()):\n",
    "    e1 = URIRef(\"http://example.org/\" + str(row[0]))\n",
    "    e2 = URIRef(\"http://example.org/\" + str(row[1]))\n",
    "    e3 = URIRef(\"http://example.org/\" + str(row[2]))\n",
    "    g.add((e1, e2, e3))\n"
   ]
  },
  {
   "cell_type": "code",
   "execution_count": 103,
   "id": "43157782",
   "metadata": {},
   "outputs": [
    {
     "name": "stderr",
     "output_type": "stream",
     "text": [
      "/home/tim/anaconda3/envs/lmkg-s/lib/python3.7/site-packages/rdflib/plugins/serializers/nt.py:36: UserWarning: NTSerializer always uses UTF-8 encoding. Given encoding was: None\n",
      "  \"NTSerializer always uses UTF-8 encoding. \"\n"
     ]
    },
    {
     "name": "stdout",
     "output_type": "stream",
     "text": [
      "[a rdfg:Graph;rdflib:storage [a rdflib:Store;rdfs:label 'Memory']].\n"
     ]
    }
   ],
   "source": [
    "print(g.serialize(format=\"nt\", destination=\"freebase_int.ttl\"))"
   ]
  },
  {
   "cell_type": "markdown",
   "id": "57d83a60",
   "metadata": {},
   "source": [
    "### Custom reader"
   ]
  },
  {
   "cell_type": "code",
   "execution_count": 105,
   "id": "7fbadd11",
   "metadata": {},
   "outputs": [],
   "source": [
    "with open(\"final_datasets/freebase_train_test_data.json\") as f:\n",
    "     data = json.load(f)"
   ]
  },
  {
   "cell_type": "code",
   "execution_count": 127,
   "id": "fd214632",
   "metadata": {},
   "outputs": [
    {
     "name": "stdout",
     "output_type": "stream",
     "text": [
      "[['<http://example.org/13443>', '<http://example.org/4>', '?o1', '.'], ['<http://example.org/13443>', '?p1', '<http://example.org/117>', '.']]\n",
      "8\n",
      "[['<http://example.org/1535>', '?p1', '?o1', '.'], ['<http://example.org/1535>', '?p2', '<http://example.org/746>', '.']]\n",
      "78\n",
      "[['?s', '?p1', '<http://example.org/3057>', '.'], ['?s', '?p2', '<http://example.org/2883>', '.']]\n",
      "1\n",
      "[['<http://example.org/2522>', '?p1', '<http://example.org/8164>', '.'], ['<http://example.org/2522>', '<http://example.org/66>', '?o1', '.']]\n",
      "1\n",
      "[['?s', '<http://example.org/26>', '<http://example.org/342>', '.'], ['?s', '?p1', '<http://example.org/7246>', '.']]\n",
      "4\n",
      "[['<http://example.org/1052>', '<http://example.org/17>', '?o1', '.'], ['<http://example.org/1052>', '<http://example.org/48>', '?o2', '.']]\n",
      "2\n",
      "[['<http://example.org/1174>', '<http://example.org/19>', '?o1', '.'], ['<http://example.org/1174>', '<http://example.org/212>', '?o2', '.']]\n",
      "10\n",
      "[['<http://example.org/19>', '<http://example.org/9>', '?o1', '.'], ['<http://example.org/19>', '?p1', '<http://example.org/5562>', '.']]\n",
      "50\n",
      "[['?s', '<http://example.org/9>', '?o1', '.'], ['?s', '?p1', '<http://example.org/1083>', '.']]\n",
      "2756\n",
      "[['?s', '<http://example.org/3>', '<http://example.org/9219>', '.'], ['?s', '?p1', '<http://example.org/2323>', '.']]\n",
      "1\n",
      "[['<http://example.org/11209>', '<http://example.org/226>', '?o1', '.'], ['<http://example.org/11209>', '<http://example.org/179>', '?o2', '.']]\n",
      "2\n",
      "[['<http://example.org/1861>', '<http://example.org/141>', '?o1', '.'], ['<http://example.org/1861>', '<http://example.org/86>', '?o2', '.']]\n",
      "12\n",
      "[['<http://example.org/1010>', '<http://example.org/48>', '?o1', '.'], ['<http://example.org/1010>', '<http://example.org/3>', '?o2', '.']]\n",
      "16\n",
      "[['<http://example.org/4076>', '<http://example.org/3>', '?o1', '.'], ['<http://example.org/4076>', '<http://example.org/8>', '?o2', '.']]\n",
      "462\n",
      "[['<http://example.org/1053>', '<http://example.org/82>', '?o1', '.'], ['<http://example.org/1053>', '<http://example.org/21>', '?o2', '.']]\n",
      "15\n",
      "[['<http://example.org/999>', '<http://example.org/7>', '?o1', '.'], ['<http://example.org/999>', '<http://example.org/7>', '?o2', '.']]\n",
      "10201\n",
      "[['<http://example.org/1374>', '<http://example.org/20>', '?o1', '.'], ['<http://example.org/1374>', '<http://example.org/20>', '?o2', '.']]\n",
      "100001\n",
      "[['<http://example.org/8492>', '<http://example.org/12>', '?o1', '.'], ['<http://example.org/8492>', '?p1', '<http://example.org/160>', '.']]\n",
      "2\n",
      "[['<http://example.org/674>', '<http://example.org/43>', '?o1', '.'], ['<http://example.org/674>', '<http://example.org/8>', '?o2', '.']]\n",
      "13\n",
      "[['<http://example.org/8674>', '<http://example.org/13>', '?o1', '.'], ['<http://example.org/8674>', '<http://example.org/11>', '?o2', '.']]\n",
      "19\n",
      "[['<http://example.org/6555>', '<http://example.org/17>', '?o1', '.'], ['<http://example.org/6555>', '<http://example.org/8>', '?o2', '.']]\n",
      "51\n",
      "[['<http://example.org/212>', '<http://example.org/75>', '?o1', '.'], ['<http://example.org/212>', '<http://example.org/75>', '?o2', '.']]\n",
      "6400\n",
      "[['<http://example.org/9290>', '<http://example.org/31>', '?o1', '.'], ['<http://example.org/9290>', '<http://example.org/12>', '?o2', '.']]\n",
      "25\n",
      "[['?s', '<http://example.org/66>', '?o1', '.'], ['?s', '<http://example.org/6>', '<http://example.org/7849>', '.']]\n",
      "11\n",
      "[['<http://example.org/10786>', '<http://example.org/6>', '?o1', '.'], ['<http://example.org/10786>', '<http://example.org/6>', '?o2', '.']]\n",
      "81\n",
      "[['<http://example.org/1521>', '<http://example.org/13>', '?o1', '.'], ['<http://example.org/1521>', '?p1', '<http://example.org/2308>', '.']]\n",
      "36\n",
      "[['<http://example.org/3931>', '<http://example.org/28>', '?o1', '.'], ['<http://example.org/3931>', '<http://example.org/14>', '?o2', '.']]\n",
      "2\n",
      "[['?s', '<http://example.org/26>', '<http://example.org/64>', '.'], ['?s', '<http://example.org/116>', '<http://example.org/3584>', '.']]\n",
      "2\n",
      "[['<http://example.org/2303>', '<http://example.org/7>', '?o1', '.'], ['<http://example.org/2303>', '<http://example.org/7>', '?o2', '.']]\n",
      "196\n",
      "[['<http://example.org/3439>', '<http://example.org/57>', '?o1', '.'], ['<http://example.org/3439>', '<http://example.org/75>', '?o2', '.']]\n",
      "468\n",
      "[['<http://example.org/3815>', '<http://example.org/19>', '?o1', '.'], ['<http://example.org/3815>', '<http://example.org/119>', '?o2', '.']]\n",
      "30\n",
      "[['<http://example.org/5289>', '<http://example.org/102>', '?o1', '.'], ['<http://example.org/5289>', '<http://example.org/8>', '?o2', '.']]\n",
      "4\n",
      "[['<http://example.org/11003>', '<http://example.org/82>', '?o1', '.'], ['<http://example.org/11003>', '<http://example.org/85>', '?o2', '.']]\n",
      "1\n",
      "[['<http://example.org/6234>', '<http://example.org/24>', '?o1', '.'], ['<http://example.org/6234>', '<http://example.org/17>', '?o2', '.']]\n",
      "4\n",
      "[['<http://example.org/1145>', '<http://example.org/19>', '?o1', '.'], ['<http://example.org/1145>', '<http://example.org/48>', '?o2', '.']]\n",
      "1\n",
      "[['?s', '?p1', '<http://example.org/399>', '.'], ['?s', '?p2', '<http://example.org/117>', '.']]\n",
      "1569\n",
      "[['<http://example.org/2505>', '<http://example.org/13>', '?o1', '.'], ['<http://example.org/2505>', '?p1', '?o2', '.']]\n",
      "4070\n",
      "[['?s', '<http://example.org/13>', '<http://example.org/1080>', '.'], ['?s', '<http://example.org/13>', '?o1', '.']]\n",
      "8805\n",
      "[['<http://example.org/9083>', '?p1', '<http://example.org/990>', '.'], ['<http://example.org/9083>', '<http://example.org/31>', '?o1', '.']]\n",
      "7\n",
      "[['?s', '<http://example.org/31>', '<http://example.org/1211>', '.'], ['?s', '<http://example.org/34>', '<http://example.org/90>', '.']]\n",
      "240\n",
      "[['<http://example.org/206>', '?p1', '<http://example.org/32>', '.'], ['<http://example.org/206>', '<http://example.org/28>', '?o1', '.']]\n",
      "3\n",
      "[['<http://example.org/7122>', '<http://example.org/17>', '?o1', '.'], ['<http://example.org/7122>', '<http://example.org/8>', '?o2', '.']]\n",
      "6\n",
      "[['?s', '<http://example.org/8>', '<http://example.org/323>', '.'], ['?s', '?p1', '<http://example.org/2905>', '.']]\n",
      "16\n",
      "[['<http://example.org/240>', '<http://example.org/7>', '?o1', '.'], ['<http://example.org/240>', '<http://example.org/47>', '?o2', '.']]\n",
      "962\n",
      "[['<http://example.org/9846>', '<http://example.org/20>', '?o1', '.'], ['<http://example.org/9846>', '<http://example.org/52>', '?o2', '.']]\n",
      "16\n",
      "[['<http://example.org/6629>', '<http://example.org/7>', '?o1', '.'], ['<http://example.org/6629>', '?p1', '<http://example.org/1996>', '.']]\n",
      "142\n",
      "[['<http://example.org/3981>', '?p1', '?o1', '.'], ['<http://example.org/3981>', '<http://example.org/38>', '?o2', '.']]\n",
      "245\n",
      "[['?s', '<http://example.org/43>', '<http://example.org/141>', '.'], ['?s', '<http://example.org/6>', '<http://example.org/12437>', '.']]\n",
      "3\n",
      "[['<http://example.org/4211>', '<http://example.org/115>', '?o1', '.'], ['<http://example.org/4211>', '<http://example.org/14>', '?o2', '.']]\n",
      "1\n",
      "[['<http://example.org/3696>', '<http://example.org/19>', '?o1', '.'], ['<http://example.org/3696>', '<http://example.org/19>', '?o2', '.']]\n",
      "144\n",
      "[['<http://example.org/6106>', '?p1', '<http://example.org/985>', '.'], ['<http://example.org/6106>', '<http://example.org/3>', '?o1', '.']]\n",
      "7\n",
      "[['<http://example.org/6584>', '<http://example.org/26>', '?o1', '.'], ['<http://example.org/6584>', '?p1', '<http://example.org/845>', '.']]\n",
      "1\n",
      "[['<http://example.org/7376>', '<http://example.org/31>', '?o1', '.'], ['<http://example.org/7376>', '<http://example.org/28>', '?o2', '.']]\n",
      "6\n",
      "[['<http://example.org/1589>', '<http://example.org/85>', '?o1', '.'], ['<http://example.org/1589>', '?p1', '<http://example.org/789>', '.']]\n",
      "1\n",
      "[['?s', '?p1', '<http://example.org/7431>', '.'], ['?s', '<http://example.org/7>', '<http://example.org/1179>', '.']]\n",
      "10\n",
      "[['<http://example.org/186>', '<http://example.org/8>', '?o1', '.'], ['<http://example.org/186>', '<http://example.org/19>', '?o2', '.']]\n",
      "700\n",
      "[['<http://example.org/11054>', '<http://example.org/5>', '?o1', '.'], ['<http://example.org/11054>', '<http://example.org/4>', '?o2', '.']]\n",
      "16\n",
      "[['?s', '?p1', '<http://example.org/603>', '.'], ['?s', '?p2', '<http://example.org/1322>', '.']]\n",
      "1\n",
      "[['<http://example.org/8504>', '<http://example.org/3>', '?o1', '.'], ['<http://example.org/8504>', '<http://example.org/145>', '?o2', '.']]\n",
      "52\n"
     ]
    }
   ],
   "source": [
    "for query in data:\n",
    "    print(query[\"triples\"])\n",
    "    print(query[\"y\"])\n",
    "    g = QueryGraph(14505, 237, 3, 2)\n",
    "    for tp in query[\"triples\"]:\n",
    "        g.add_triple([el.replace(\"<http://example.org/\", \"\").replace(\">\",\"\") for el in tp if el is not \".\"])\n",
    "    g.cardinality = query[\"y\"]\n",
    "    x, ep, a, cardinality = g.create_graph()\n"
   ]
  },
  {
   "cell_type": "code",
   "execution_count": 123,
   "id": "c931a6b2",
   "metadata": {},
   "outputs": [
    {
     "data": {
      "text/plain": [
       "array([[0, 0, 0, 0, 0, 0, 0, 0, 1, 1, 1, 0, 1, 0, 1],\n",
       "       [0, 1, 1, 0, 1, 0, 0, 1, 0, 0, 0, 0, 0, 1, 1],\n",
       "       [0, 0, 0, 0, 0, 0, 0, 0, 0, 0, 0, 0, 0, 0, 0]], dtype=uint8)"
      ]
     },
     "execution_count": 123,
     "metadata": {},
     "output_type": "execute_result"
    }
   ],
   "source": [
    "x"
   ]
  },
  {
   "cell_type": "code",
   "execution_count": 124,
   "id": "293e9d3f",
   "metadata": {},
   "outputs": [
    {
     "data": {
      "text/plain": [
       "array([[0, 0, 0, 0, 0, 0, 1, 0, 0],\n",
       "       [0, 0, 0, 0, 0, 0, 0, 0, 0]], dtype=uint8)"
      ]
     },
     "execution_count": 124,
     "metadata": {},
     "output_type": "execute_result"
    }
   ],
   "source": [
    "ep"
   ]
  },
  {
   "cell_type": "code",
   "execution_count": 125,
   "id": "dffafc57",
   "metadata": {},
   "outputs": [
    {
     "data": {
      "text/plain": [
       "array([[[0, 0, 0],\n",
       "        [0, 0, 1],\n",
       "        [0, 0, 0]],\n",
       "\n",
       "       [[0, 0, 0],\n",
       "        [1, 0, 0],\n",
       "        [0, 0, 0]]], dtype=uint8)"
      ]
     },
     "execution_count": 125,
     "metadata": {},
     "output_type": "execute_result"
    }
   ],
   "source": [
    "a"
   ]
  }
 ],
 "metadata": {
  "kernelspec": {
   "display_name": "Python 3 (ipykernel)",
   "language": "python",
   "name": "python3"
  },
  "language_info": {
   "codemirror_mode": {
    "name": "ipython",
    "version": 3
   },
   "file_extension": ".py",
   "mimetype": "text/x-python",
   "name": "python",
   "nbconvert_exporter": "python",
   "pygments_lexer": "ipython3",
   "version": "3.7.13"
  }
 },
 "nbformat": 4,
 "nbformat_minor": 5
}
