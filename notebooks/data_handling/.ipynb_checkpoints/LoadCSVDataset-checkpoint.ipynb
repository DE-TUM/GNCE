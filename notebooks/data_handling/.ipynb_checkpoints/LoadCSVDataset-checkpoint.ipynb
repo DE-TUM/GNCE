{
 "cells": [
  {
   "cell_type": "code",
   "execution_count": 1,
   "id": "ab46dbd4",
   "metadata": {},
   "outputs": [],
   "source": [
    "from rdflib import Graph, URIRef, Literal, BNode\n",
    "from rdflib.namespace import FOAF, RDF\n",
    "import pandas as pd\n",
    "from tqdm import tqdm"
   ]
  },
  {
   "cell_type": "code",
   "execution_count": 2,
   "id": "6da6e39f",
   "metadata": {},
   "outputs": [],
   "source": [
    "data = pd.read_csv('/home/tim/Downloads/lubm.csv')"
   ]
  },
  {
   "cell_type": "code",
   "execution_count": 3,
   "id": "bcb6ffa0",
   "metadata": {},
   "outputs": [
    {
     "name": "stderr",
     "output_type": "stream",
     "text": [
      "100%|██████████████████████████████| 2688849/2688849 [00:50<00:00, 53263.16it/s]\n"
     ]
    }
   ],
   "source": [
    "# In case graph is too large for memory, write to text file\n",
    "file_object = open('sample.ttl', 'a')\n",
    "for idx, row in tqdm(data.iterrows(), total=data.shape[0]):\n",
    "    file_object.write(\"<http://example.org/\" + str(row[0]) + \"> \")\n",
    "    file_object.write(\"<http://example.org/\" + str(row[1]) + \"> \")\n",
    "    file_object.write(\"<http://example.org/\" + str(row[2]) + \"> .\")\n",
    "    file_object.write('\\n')\n",
    "\n",
    "file_object.close()\n"
   ]
  }
 ],
 "metadata": {
  "kernelspec": {
   "display_name": "Python 3 (ipykernel)",
   "language": "python",
   "name": "python3"
  },
  "language_info": {
   "codemirror_mode": {
    "name": "ipython",
    "version": 3
   },
   "file_extension": ".py",
   "mimetype": "text/x-python",
   "name": "python",
   "nbconvert_exporter": "python",
   "pygments_lexer": "ipython3",
   "version": "3.8.10"
  }
 },
 "nbformat": 4,
 "nbformat_minor": 5
}
