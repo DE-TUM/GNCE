{
 "cells": [
  {
   "cell_type": "code",
   "execution_count": null,
   "id": "e6d28ed1",
   "metadata": {},
   "outputs": [],
   "source": [
    "import json\n",
    "import numpy as np\n",
    "import matplotlib.pyplot as plt\n",
    "import random\n",
    "import scipy.stats as st\n",
    "import numpy as np\n",
    "import scipy.stats as st\n",
    "from cycler import cycler\n",
    "import matplotlib as mpl\n"
   ]
  },
  {
   "cell_type": "markdown",
   "id": "07fa2f69",
   "metadata": {},
   "source": [
    "# Evaluation Times"
   ]
  },
  {
   "cell_type": "code",
   "execution_count": null,
   "id": "8ce269f8",
   "metadata": {},
   "outputs": [],
   "source": [
    "# Load the Ground Truth:\n",
    "dataset = \"swdf\"\n",
    "query_type = \"star\"\n",
    "methods = ['GNCE', 'LMKG', 'lss', 'wj', 'impr', 'jsub', 'cset']"
   ]
  },
  {
   "cell_type": "code",
   "execution_count": null,
   "id": "5808c308",
   "metadata": {},
   "outputs": [],
   "source": [
    "method_labels = ['GNCE', 'LMKG', 'LSS', 'Wanderjoin', 'impr', 'jsub', 'CSET']"
   ]
  },
  {
   "cell_type": "code",
   "execution_count": null,
   "id": "ac93275d",
   "metadata": {},
   "outputs": [],
   "source": [
    "# Flag whether to save the plots\n",
    "save_plots = True"
   ]
  },
  {
   "cell_type": "code",
   "execution_count": null,
   "id": "f6ebe900",
   "metadata": {},
   "outputs": [],
   "source": [
    "# Whether to exclude queries with cardinality 0, -1\n",
    "exclude_invalid = True"
   ]
  },
  {
   "cell_type": "code",
   "execution_count": null,
   "id": "26abfaf2",
   "metadata": {},
   "outputs": [],
   "source": [
    "## Filtering out -1.0 and 0.0 predictions:\n",
    "\n",
    "\n",
    "def load_approach(dataset, query_type, approach):\n",
    "    # Load data as before\n",
    "    gts = np.load(f\"/home/tim/Datasets/{dataset}/Results/{query_type}/{approach}/gts.npy\")\n",
    "    preds = np.load(f\"/home/tim/Datasets/{dataset}/Results/{query_type}/{approach}/preds.npy\")\n",
    "    sizes = np.load(f\"/home/tim/Datasets/{dataset}/Results/{query_type}/{approach}/sizes.npy\")\n",
    "    exec_times = np.load(f\"/home/tim/Datasets/{dataset}/Results/{query_type}/{approach}/pred_times.npy\")\n",
    "\n",
    "    # Create a mask for the valid entries in preds\n",
    "    if exclude_invalid:\n",
    "        mask = (preds != 0.0) & (preds != -1.0)\n",
    "        mask = (preds > 0)\n",
    "\n",
    "        # Apply the mask to all arrays\n",
    "        gts = gts[mask]\n",
    "        preds = preds[mask]\n",
    "        sizes = sizes[mask]\n",
    "        exec_times = exec_times[mask]\n",
    "\n",
    "    # Continue your logic as before, but using the filtered arrays\n",
    "    if approach in [\"GNCE\", \"LMKG\", \"lss\"]:\n",
    "        exec_times_total = np.load(f\"/home/tim/Datasets/{dataset}/Results/{query_type}/{approach}/pred_times_total.npy\")\n",
    "        if exclude_invalid:\n",
    "            exec_times_total = exec_times_total[mask]  # Apply mask to exec_times_total as well\n",
    "        loading_times = exec_times_total - exec_times\n",
    "        loading_times = [np.mean(loading_times[sizes ==2]), np.mean(loading_times[sizes ==3]),\n",
    "        np.mean(loading_times[sizes ==5]),\n",
    "       np.mean(loading_times[sizes ==8])]\n",
    "        \n",
    "    else:\n",
    "        exec_times_total = exec_times\n",
    "        sizes = sizes[:]\n",
    "        loading_times = [0,0,0,0]\n",
    "\n",
    "\n",
    "    runtimes = [np.mean(exec_times[sizes ==2]), np.mean(exec_times[sizes ==3]),\n",
    "        np.mean(exec_times[sizes ==5]),\n",
    "       np.mean(exec_times[sizes ==8])]\n",
    "\n",
    "\n",
    "    mins = [st.t.interval(0.95, len(exec_times[sizes ==i])-1, loc=np.mean(exec_times[sizes ==i]),\n",
    "              scale=st.sem(exec_times[sizes ==i]))[0] for i in (2,3,5,8)]\n",
    "\n",
    "    maxs = [st.t.interval(0.95, len(exec_times[sizes ==i])-1, loc=np.mean(exec_times[sizes ==i]),\n",
    "          scale=st.sem(exec_times[sizes ==i]))[1] for i in (2,3,5,8)]\n",
    "\n",
    "    return runtimes, loading_times, mins, maxs, \n",
    "    "
   ]
  },
  {
   "cell_type": "code",
   "execution_count": null,
   "id": "e7dd19f1",
   "metadata": {},
   "outputs": [],
   "source": [
    "data = []\n",
    "data_loading = []\n",
    "min_values = []\n",
    "max_values = []\n",
    "\n",
    "for method in methods:\n",
    "    time, loading_time, minval, maxval = load_approach(dataset, query_type, method)\n",
    "    data.append(time)\n",
    "    data_loading.append(loading_time)\n",
    "    min_values.append(minval)\n",
    "    max_values.append(maxval)"
   ]
  },
  {
   "cell_type": "code",
   "execution_count": null,
   "id": "9652ad72",
   "metadata": {},
   "outputs": [],
   "source": [
    "\n",
    "bar_cycle = (cycler('hatch', ['//////', '-----', '...','oooo', 'xxx','**', 'OOO', '\\\\\\\\']))\n",
    "styles = bar_cycle()\n",
    "\n",
    "colormap = mpl.cm.tab10.colors"
   ]
  },
  {
   "cell_type": "code",
   "execution_count": null,
   "id": "2cad79a2",
   "metadata": {},
   "outputs": [],
   "source": [
    "X_Axis = np.arange(len(data[0]))\n",
    "\n",
    "labels = methods\n",
    "datamin = min_values\n",
    "datamax = max_values\n",
    "\n",
    "min_offset = int(len(data)/2) * 0.1\n",
    "\n",
    "for i in range(len(data)):\n",
    "    hatch_color = list(colormap[i])\n",
    "    plt.rcParams['hatch.color'] = colormap[i]\n",
    "    mins = list(np.array(data[i]) - np.array(datamin[i]))\n",
    "    maxs = list(np.array(datamax[i]) - np.array(data[i]))\n",
    "\n",
    "    errs = np.array([[mins[j], maxs[j]] for j in range(len(datamax[i]))]).T\n",
    "    plt.bar(X_Axis - min_offset + i*0.1, data[i], \n",
    "            0.1, label= labels[i],\n",
    "            color=colormap[i], alpha=0.7,\n",
    "            yerr = errs,\n",
    "            capsize=5,\n",
    "            ecolor = 'darkgrey',\n",
    "            **next(styles))\n",
    "\n",
    "\n",
    "#plt.bar(X_Axis - 0.1,GNCE, 0.1, label=\"GNCE\")\n",
    "#plt.bar(X_Axis - 0.0,LMKG, 0.1, label=\"LMKG\")\n",
    "#plt.bar(X_Axis + 0.1,LSS, 0.1, labAel=\"LSS\")\n",
    "plt.legend(prop={'size': 6})\n",
    "plt.yscale(\"log\")\n",
    "plt.xticks(X_Axis, [\"2\", \"3\", \"5\", \"8\"])\n",
    "plt.xlabel(\"Query Size\")\n",
    "plt.ylabel(\"Mean Execution Time [ms]\")\n",
    "plt.ylim(0,6500)\n",
    "plt.savefig(dataset+ \"_\"+ query_type + \"_execution_times.pdf\")"
   ]
  },
  {
   "cell_type": "markdown",
   "id": "519046b7",
   "metadata": {},
   "source": [
    "## Code for splitting bars "
   ]
  },
  {
   "cell_type": "code",
   "execution_count": null,
   "id": "d6553ca9",
   "metadata": {},
   "outputs": [],
   "source": [
    "X_Axis = np.arange(len(data[0]))\n",
    "\n",
    "#data = [GNCE, LMKG, WJOIN, IMPR, JSUB, CSET]\n",
    "#data2 = [GNCE_load, LMKG_load, WJOIN_load, IMPR_load, JSUB_load, CSET_load]\n",
    "data2 = data_loading\n",
    "\n",
    "labels = method_labels\n",
    "labels2 = [method + '  loading' for method in method_labels]\n",
    "\n",
    "datamin = min_values\n",
    "datamax = max_values\n",
    "\n",
    "min_offset = int(len(data)/2) * 0.1\n",
    "\n",
    "fig,ax = plt.subplots()\n",
    "\n",
    "for i in range(len(data)):\n",
    "    hatch_color = list(colormap[i])\n",
    "    plt.rcParams['hatch.color'] = colormap[i]\n",
    "    mins = list(np.array(data[i]) - np.array(datamin[i]))\n",
    "    maxs = list(np.array(datamax[i]) - np.array(data[i]))\n",
    "\n",
    "    errs = np.array([[mins[j], maxs[j]] for j in range(len(datamax[i]))]).T\n",
    "    ax.bar(X_Axis - min_offset + i*0.1, data[i], \n",
    "            0.1, label= labels[i],\n",
    "            color=colormap[i], alpha=0.7,\n",
    "            yerr = errs,\n",
    "            capsize=5,\n",
    "\n",
    "            ecolor = 'darkgrey',\n",
    "            **next(styles))\n",
    "    ax.bar(X_Axis - min_offset + i*0.1, data2[i], \n",
    "            0.1, label= labels2[i],\n",
    "            color=colormap[i], alpha=0.7,\n",
    "            capsize=5,\n",
    "            bottom=data[i],\n",
    "            ecolor = 'darkgrey',\n",
    "            **next(styles))\n",
    "\n",
    "\n",
    "#plt.bar(X_Axis - 0.1,GNCE, 0.1, label=\"GNCE\")\n",
    "#plt.bar(X_Axis - 0.0,LMKG, 0.1, label=\"LMKG\")\n",
    "#plt.bar(X_Axis + 0.1,LSS, 0.1, labAel=\"LSS\")\n",
    "plt.legend(prop={'size': 6}, ncol=2)\n",
    "plt.yscale(\"log\")\n",
    "plt.xticks(X_Axis, [\"2\", \"3\", \"5\", \"8\"])\n",
    "plt.xlabel(\"Query Size\")\n",
    "plt.ylabel(\"Mean Execution Time [ms]\")\n",
    "plt.ylim(0,6500)\n",
    "if save_plots:\n",
    "    print(f\"Saving Execution plot..\")\n",
    "    plt.savefig(f\"/home/tim/Datasets/plots/{dataset}_{query_type}_execution_times.pdf\")\n",
    "#plt.savefig(dataset+ \"_\"+ query_type + \"_execution_times.pdf\")"
   ]
  },
  {
   "cell_type": "markdown",
   "id": "28324b69",
   "metadata": {},
   "source": [
    "# Total Training Times per atom"
   ]
  },
  {
   "cell_type": "code",
   "execution_count": null,
   "id": "e96df6d5",
   "metadata": {},
   "outputs": [],
   "source": [
    "base_folder = '/home/tim/Datasets'\n",
    "dataset = 'yago'"
   ]
  },
  {
   "cell_type": "code",
   "execution_count": null,
   "id": "0097f577",
   "metadata": {},
   "outputs": [],
   "source": [
    "# Embedding time for prone - lss\n",
    "# Prone on Yago took a total of 51216.82 seconds\n",
    "# for a total of 13000080 embeddings\n",
    "prone_embedding_time_per_atom = 51216.82/13000080 * 1000"
   ]
  },
  {
   "cell_type": "code",
   "execution_count": null,
   "id": "e2294cc0",
   "metadata": {},
   "outputs": [],
   "source": [
    "methods = ['GNCE', 'LMKG', 'lss', 'wj', 'impr', 'jsub', 'cset']\n",
    "total_runtimes_per_atom = []\n",
    "total_embedding_times_per_atom = [6.404609663545492, 0, prone_embedding_time_per_atom, 0 ,0 ,0 ,0]"
   ]
  },
  {
   "cell_type": "code",
   "execution_count": null,
   "id": "b04c1377",
   "metadata": {},
   "outputs": [],
   "source": [
    "for method in methods:\n",
    "    with open(f'{base_folder}/{dataset}/Results/training_timing/{method}/training_timing.json','r') as f:\n",
    "        data = json.load(f)\n",
    "        total_runtimes_per_atom.append(data['total_training_time_per_atom'])"
   ]
  },
  {
   "cell_type": "code",
   "execution_count": null,
   "id": "3109274e",
   "metadata": {},
   "outputs": [],
   "source": [
    "total_embedding_times_per_atom"
   ]
  },
  {
   "cell_type": "code",
   "execution_count": null,
   "id": "e6716b00",
   "metadata": {},
   "outputs": [],
   "source": [
    "total_runtimes_per_atom"
   ]
  },
  {
   "cell_type": "code",
   "execution_count": null,
   "id": "db6fbede",
   "metadata": {},
   "outputs": [],
   "source": [
    "colormap = mpl.cm.tab10.colors\n",
    "bar_cycle = (cycler('hatch', ['//////', '-----', '...','oooo', 'xxx','**', 'OOO', '\\\\\\\\']))\n",
    "styles = bar_cycle()\n",
    "\n",
    "bars = plt.bar(methods, total_runtimes_per_atom, color=colormap)\n",
    "plt.yscale(\"log\")\n",
    "# Apply hatch styles from the cycler\n",
    "for bar, style in zip(bars, styles):\n",
    "    bar.set_hatch(style['hatch'])\n",
    "\n",
    "\n",
    "# Add labels and title\n",
    "plt.xlabel('Method')\n",
    "plt.ylabel('Runtime per atom [ms]')\n",
    "plt.title('Total Runtimes Per Atom by Method')\n",
    "\n",
    "# Show the plot\n",
    "#plt.show()\n",
    "\n",
    "if save_plots:\n",
    "    print(f\"Saving Training plot..\")\n",
    "    plt.savefig(f\"/home/tim/Datasets/plots/{dataset}_{query_type}_training_times.pdf\")\n"
   ]
  },
  {
   "cell_type": "code",
   "execution_count": null,
   "id": "d3a9c760",
   "metadata": {},
   "outputs": [],
   "source": [
    "import matplotlib.pyplot as plt\n",
    "from cycler import cycler\n",
    "import matplotlib as mpl\n",
    "\n",
    "\n",
    "colormap = mpl.cm.tab10.colors\n",
    "bar_cycle = (cycler('hatch', ['//////', '-----', '...', 'oooo', 'xxx', '**', 'OOO', '\\\\\\\\']))\n",
    "styles = bar_cycle()\n",
    "\n",
    "plt.rcParams['hatch.color'] = 'grey'\n",
    "#bars1 = plt.bar(methods, total_runtimes_per_atom, color=colormap, alpha=0.7)\n",
    "#bars2 = plt.bar(methods, total_embedding_times_per_atom, color='gray', alpha=0.5, bottom=total_runtimes_per_atom)\n",
    "\n",
    "bars1 = plt.bar(methods, total_embedding_times_per_atom, color='gray', alpha=0.5, label='Embedding')\n",
    "bars2 = plt.bar(methods, total_runtimes_per_atom, color=colormap, alpha=0.7, bottom=total_embedding_times_per_atom)\n",
    "\n",
    "plt.yscale(\"log\")\n",
    "\n",
    "# Apply hatch styles from the cycler to the first set of bars\n",
    "#for bar, style in zip(bars1, styles):\n",
    "#    bar.set_hatch(style['hatch'])\n",
    "\n",
    "# Add labels and title\n",
    "plt.xlabel('Method')\n",
    "plt.ylim(0.0001)\n",
    "plt.ylabel('Training Time per atom [ms]')\n",
    "plt.legend()\n",
    "#plt.title('Total Runtimes Per Atom by Method')\n",
    "\n",
    "# Show the plot or save it\n",
    "if save_plots:\n",
    "    print(f\"Saving Training plot..\")\n",
    "    plt.savefig(f\"/home/tim/Datasets/plots/{dataset}_{query_type}_training_times.pdf\")\n",
    "else:\n",
    "    plt.show()\n"
   ]
  },
  {
   "cell_type": "code",
   "execution_count": null,
   "id": "18f1f868",
   "metadata": {},
   "outputs": [],
   "source": [
    "import matplotlib.pyplot as plt\n",
    "from cycler import cycler\n",
    "import matplotlib as mpl\n",
    "\n",
    "epsilon = 1e-9  # Or some small value\n",
    "colormap = mpl.cm.tab10.colors\n",
    "bar_cycle = (cycler('hatch', ['//////', '-----', '...', 'oooo', 'xxx', '**', 'OOO', '\\\\\\\\']))\n",
    "styles = bar_cycle()\n",
    "\n",
    "# Making sure we don't have zero values\n",
    "total_embedding_times_per_atom = [max(epsilon, x) for x in total_embedding_times_per_atom]\n",
    "\n",
    "bars1 = plt.bar(methods, total_runtimes_per_atom, color=colormap)\n",
    "bars2 = plt.bar(methods, total_embedding_times_per_atom, color='gray', alpha=0.5, bottom=total_runtimes_per_atom)\n",
    "bars3 = plt.bar(methods, total_runtimes_per_atom, color=colormap)\n",
    "\n",
    "plt.yscale(\"log\")\n",
    "\n",
    "# Apply hatch styles from the cycler to the first set of bars\n",
    "for bar, style in zip(bars1, styles):\n",
    "    bar.set_hatch(style['hatch'])\n",
    "\n",
    "# Add labels and title\n",
    "plt.xlabel('Method')\n",
    "plt.ylabel('Runtime per atom [ms]')\n",
    "plt.title('Total Runtimes Per Atom by Method')\n",
    "\n",
    "# Show the plot or save it\n",
    "if save_plots:\n",
    "    print(f\"Saving Training plot..\")\n",
    "    plt.savefig(f\"/home/tim/Datasets/plots/{dataset}_{query_type}_training_times.pdf\")\n",
    "else:\n",
    "    plt.show()\n"
   ]
  }
 ],
 "metadata": {
  "kernelspec": {
   "display_name": "Python 3 (ipykernel)",
   "language": "python",
   "name": "python3"
  },
  "language_info": {
   "codemirror_mode": {
    "name": "ipython",
    "version": 3
   },
   "file_extension": ".py",
   "mimetype": "text/x-python",
   "name": "python",
   "nbconvert_exporter": "python",
   "pygments_lexer": "ipython3",
   "version": "3.8.18"
  }
 },
 "nbformat": 4,
 "nbformat_minor": 5
}
