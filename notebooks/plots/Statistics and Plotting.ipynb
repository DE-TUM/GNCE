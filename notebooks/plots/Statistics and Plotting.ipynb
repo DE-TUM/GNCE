{
 "cells": [
  {
   "cell_type": "markdown",
   "id": "13c752cf",
   "metadata": {},
   "source": [
    "# Notebook to produce camera ready plots for Cardinality Estimation Paper"
   ]
  },
  {
   "cell_type": "code",
   "execution_count": null,
   "id": "b1bee75d",
   "metadata": {},
   "outputs": [],
   "source": [
    "import numpy as np\n",
    "import matplotlib.pyplot as plt\n",
    "from scipy.stats import pearsonr\n",
    "import json\n",
    "\n",
    "import random\n",
    "from matplotlib import ticker\n",
    "import math\n",
    "\n",
    "import matplotlib as mpl\n",
    "from cycler import cycler"
   ]
  },
  {
   "cell_type": "code",
   "execution_count": null,
   "id": "6a375a12",
   "metadata": {},
   "outputs": [],
   "source": [
    "#which methods to plot\n",
    "#methods = ['GNCE', 'LMKG', 'wj', 'impr', 'jsub', 'cset']\n",
    "methods = ['GNCE', 'LMKG', 'lss', 'wj', 'impr', 'jsub', 'cset']\n",
    "methods_labels = ['GNCE', 'LMKG', 'LSS', 'Wanderjoin', 'impr', 'jsub', 'CSET']"
   ]
  },
  {
   "cell_type": "code",
   "execution_count": null,
   "id": "cecf9028",
   "metadata": {},
   "outputs": [],
   "source": [
    "# The dataset to plot for \n",
    "dataset = \"wikidata\"\n",
    "# The query type\n",
    "query_type = \"path\"\n",
    "# Optional, currently not used\n",
    "tag = \"\"\n",
    "\n",
    "# Whether to exclude all predictions with value >= 0\n",
    "exclude_invalid = False"
   ]
  },
  {
   "cell_type": "code",
   "execution_count": null,
   "id": "32620274",
   "metadata": {},
   "outputs": [],
   "source": [
    "exclude_1_tp_queries = False"
   ]
  },
  {
   "cell_type": "code",
   "execution_count": null,
   "id": "36c3e7b7",
   "metadata": {},
   "outputs": [],
   "source": [
    "# Flag whether to save the plots\n",
    "save_plots = True"
   ]
  },
  {
   "cell_type": "code",
   "execution_count": null,
   "id": "bdae850f",
   "metadata": {},
   "outputs": [],
   "source": [
    "# dicts to hold ground truths, predictions and sizes of the queries\n",
    "gts_dict = {}\n",
    "preds_dict = {}\n",
    "sizes_dict = {}"
   ]
  },
  {
   "cell_type": "code",
   "execution_count": null,
   "id": "11e8aab9",
   "metadata": {},
   "outputs": [],
   "source": [
    "for method in methods:\n",
    "    if not method == 'lss':\n",
    "        gts = np.load(f\"/home/tim/Datasets/{dataset}/Results/{query_type}/{tag}/{method}/gts.npy\")\n",
    "        preds = np.load(f\"/home/tim/Datasets/{dataset}/Results/{query_type}/{tag}/{method}/preds.npy\")\n",
    "        sizes = np.load(f\"/home/tim/Datasets/{dataset}/Results/{query_type}/{tag}/{method}/sizes.npy\")\n",
    "        sizes = sizes[:len(gts)]\n",
    "    else:\n",
    "        gts = np.load(f\"/home/tim/Datasets/{dataset}/Results/{query_type}/{tag}/{method}/gts.npy\")\n",
    "        gts = 2**gts\n",
    "        preds = np.load(f\"/home/tim/Datasets/{dataset}/Results/{query_type}/{tag}/{method}/preds.npy\")\n",
    "        preds = 2 ** preds\n",
    "        sizes = np.load(f\"/home/tim/Datasets/{dataset}/Results/{query_type}/{tag}/{method}/sizes.npy\")\n",
    "    \n",
    "    if exclude_invalid:\n",
    "        valid_indices = preds > 0\n",
    "        gts = gts[valid_indices]\n",
    "        preds = preds[valid_indices]\n",
    "        sizes = sizes[valid_indices]\n",
    "    \n",
    "    if exclude_1_tp_queries:\n",
    "        valid_size_indices = sizes > 1\n",
    "        gts = gts[valid_size_indices]\n",
    "        preds = preds[valid_size_indices]\n",
    "        sizes = sizes[valid_size_indices]\n",
    "        \n",
    "    gts_dict[method] = gts\n",
    "    preds_dict[method] = preds\n",
    "    sizes_dict[method] = sizes"
   ]
  },
  {
   "cell_type": "code",
   "execution_count": null,
   "id": "957be606",
   "metadata": {},
   "outputs": [],
   "source": [
    "# Defining functions for barplots based on true cardinality, based on number of triple patterns \n",
    "# defining function for calculating q-error or mae \n",
    "\n",
    "def barplot(gts, preds):\n",
    "    Q_Errors = []\n",
    "    for bin_ in Bins:\n",
    "        gts_bin =  np.array(gts[(gts > bin_[0]) & (gts < bin_[1])])\n",
    "        preds_bin =  np.array(preds[(gts > bin_[0]) & (gts < bin_[1])])\n",
    "        preds_bin = np.round(preds_bin)\n",
    "        preds_bin[np.where(preds_bin==0)] = 1\n",
    "        preds_bin[np.where(preds_bin==-1)] = 1\n",
    "\n",
    "        #q_error = np.mean(np.maximum(gts_bin/ preds_bin, preds_bin/gts_bin))\n",
    "        q_error = np.mean(q_errorf(gts_bin, preds_bin, rounded=True))\n",
    "        Q_Errors.append(q_error)\n",
    "    return Q_Errors\n",
    "\n",
    "def barplot_mae(gts, preds):\n",
    "    Q_Errors = []\n",
    "    for bin_ in Bins:\n",
    "        gts_bin =  np.array(gts[(gts > bin_[0]) & (gts < bin_[1])])\n",
    "        preds_bin =  np.array(preds[(gts > bin_[0]) & (gts < bin_[1])])\n",
    "        q_error = np.mean(np.abs(gts_bin - preds_bin))\n",
    "        Q_Errors.append(q_error)\n",
    "    return Q_Errors\n",
    "\n",
    "def q_errorf(gts, preds, mode=\"q\", rounded=True):\n",
    "    if rounded:\n",
    "        preds = np.round(preds)\n",
    "    preds[np.where(preds==0)] = 1\n",
    "    if mode==\"mae\":\n",
    "        return np.abs(gts-preds)\n",
    "    else:\n",
    "        return np.maximum(gts/ np.abs(preds), np.abs(preds)/gts)\n",
    "    \n",
    "def q_error(gts, preds, rounded=False):\n",
    "    if rounded:\n",
    "        preds = np.round(preds)\n",
    "    preds[np.where(preds==0)] = 1\n",
    "    return np.mean(np.maximum(gts/ np.abs(preds), np.abs(preds)/gts))\n",
    "\n",
    "\n",
    "def q_error(gts, preds, mode=\"q\", rounded=False, overunder=False):\n",
    "    '''\n",
    "    qError Function for the boxplots\n",
    "    '''\n",
    "    if rounded:\n",
    "        preds = np.abs(np.round(preds))\n",
    "    preds = np.abs(preds)\n",
    "    preds[np.where(preds==0)] = 1\n",
    "    preds[np.where(preds==-1)] = 1\n",
    "\n",
    "    if mode==\"mae\":\n",
    "        return np.abs(gts-preds)\n",
    "    else:\n",
    "        if overunder:\n",
    "            return np.where(preds>gts, preds/gts, -gts/preds)\n",
    "        else:\n",
    "            return np.maximum(gts/ preds, preds/gts)\n",
    "        \n",
    "def barplot_size(gts, preds, sizes):\n",
    "    Q_Errors = []\n",
    "    for bin_ in Bins:\n",
    "        gts_bin =  np.array(gts[sizes==bin_])\n",
    "        preds_bin =  np.array(preds[sizes==bin_])\n",
    "        preds_bin = np.round(preds_bin)\n",
    "        preds_bin[np.where(preds_bin==0)] = 1\n",
    "        preds_bin[np.where(preds_bin==-1)] = 1\n",
    "\n",
    "        #q_error = np.mean(np.maximum(gts_bin/ preds_bin, preds_bin/gts_bin))\n",
    "        q_error = np.mean(q_errorf(gts_bin, preds_bin, rounded=False))\n",
    "        Q_Errors.append(q_error)\n",
    "    return Q_Errors"
   ]
  },
  {
   "cell_type": "markdown",
   "id": "9b0ede55",
   "metadata": {},
   "source": [
    "#### Barplots against true cardinalities"
   ]
  },
  {
   "cell_type": "code",
   "execution_count": null,
   "id": "fd524b40",
   "metadata": {},
   "outputs": [],
   "source": [
    "# The bins to use for barplots against true cardinalities\n",
    "Bins = [(1, 5**1), (5**1, 5**2), (5**2, 5**3),(5**3, 5**4),(5**4, 5**5),(5**5, 5**6),(5**6, 5**9) ]\n"
   ]
  },
  {
   "cell_type": "code",
   "execution_count": null,
   "id": "22433d03",
   "metadata": {},
   "outputs": [],
   "source": [
    "# Creating Barplot Data\n",
    "barplots_cardinality_data = {}\n",
    "for method in methods:\n",
    "    barplots_cardinality_data[method] = barplot(gts_dict[method], preds_dict[method])"
   ]
  },
  {
   "cell_type": "code",
   "execution_count": null,
   "id": "efae5f91",
   "metadata": {},
   "outputs": [],
   "source": [
    "barplots_cardinality_data"
   ]
  },
  {
   "cell_type": "code",
   "execution_count": null,
   "id": "803e5cc4",
   "metadata": {},
   "outputs": [],
   "source": [
    "#plt.style.use('grayscale')\n",
    "\n",
    "bar_cycle = (cycler('hatch', ['//////', '-----', '...','oooo', 'xxx','**', 'OOO', '\\\\\\\\']))\n",
    "styles = bar_cycle()\n",
    "\n",
    "colormap = mpl.cm.tab10.colors\n",
    "\n",
    "\n",
    "data = list(barplots_cardinality_data.values())\n",
    "labels = methods\n",
    "\n",
    "X_Axis = np.arange(len(data[0]))\n",
    "\n",
    "\n",
    "for i in range(len(data)):\n",
    "    hatch_color = list(colormap[i])\n",
    "    plt.rcParams['hatch.color'] = colormap[i]\n",
    "    plt.bar(X_Axis - 0.4 + 0.1*i,data[i], 0.1, label=labels[i], color=colormap[i], alpha=0.7, **next(styles))\n",
    "\n",
    "\n",
    "\n",
    "#plt.ylim(1, 11**5)\n",
    "\n",
    "plt.yscale(\"log\")\n",
    "\n",
    "plt.legend(ncol=2)\n",
    "plt.xticks(X_Axis, [\"$< 5$\", \"$< 5^2$\", \"< $5^3$\", \"< $5^4$\", \"< $5^5$\", \"< $5^6$\", \"< $5^9$\"])\n",
    "#plt.xticks(X_Axis, [\"$< 5$\", \"$< 5^2$\", \"< $5^3$\", \"< $5^4$\", \"< $5^5$\", \"< $5^9$\"])\n",
    "\n",
    "plt.xlabel(\"Query Result Size\")\n",
    "plt.ylabel(\"Mean Q-Error\")\n",
    "if save_plots:\n",
    "    print(f\"Saving Cardinality Barplot\")\n",
    "    plt.savefig(f\"/home/tim/Datasets/plots/{dataset}_{query_type}_barplot_card.pdf\")"
   ]
  },
  {
   "cell_type": "code",
   "execution_count": null,
   "id": "2d7ab5af",
   "metadata": {},
   "outputs": [],
   "source": []
  },
  {
   "cell_type": "markdown",
   "id": "82f9d8de",
   "metadata": {},
   "source": [
    "#### Boxplots for the methods"
   ]
  },
  {
   "cell_type": "code",
   "execution_count": null,
   "id": "803e1425",
   "metadata": {},
   "outputs": [],
   "source": [
    "# Whether to plot boxplots for MAE or for qError\n",
    "mode = \"q\"\n",
    "# Whether to round the predictions before calculating qError\n",
    "rounded = True\n",
    "# Whether to plot over-and underestimation or only the simple qerror\n",
    "overunder= True"
   ]
  },
  {
   "cell_type": "code",
   "execution_count": null,
   "id": "78690599",
   "metadata": {},
   "outputs": [],
   "source": [
    "colormap = mpl.cm.tab10.colors"
   ]
  },
  {
   "cell_type": "code",
   "execution_count": null,
   "id": "7c1eb616",
   "metadata": {},
   "outputs": [],
   "source": [
    "# Creating data for the boxplots\n",
    "# Creating Barplot Data\n",
    "boxplot_data = {}\n",
    "for method in methods:\n",
    "    boxplot_data[method] = q_error(gts_dict[method], preds_dict[method],\n",
    "                                   mode=mode, rounded=rounded, overunder=overunder)"
   ]
  },
  {
   "cell_type": "code",
   "execution_count": null,
   "id": "8068c5c6",
   "metadata": {},
   "outputs": [],
   "source": [
    "from matplotlib import ticker\n",
    "import math\n",
    "\n",
    "\n",
    "data = list(boxplot_data.values())\n",
    "\n",
    "\n",
    "fig, (ax1, ax2) = plt.subplots(2, 1, sharex=True)\n",
    "fig.subplots_adjust(hspace=0.0)\n",
    "\n",
    "medianprops = dict(color=\"black\",linewidth=1.5)\n",
    "\n",
    "bplot1 = ax1.boxplot(data, whis=(0,100), sym=\"\", patch_artist=True,medianprops=medianprops)\n",
    "bplot2 = ax2.boxplot(data, whis=(0,100), sym=\"\", patch_artist=True, medianprops=medianprops)\n",
    "\n",
    "\n",
    "colors = ['pink', 'lightblue', 'lightgreen', 'lightgreen', 'lightgreen', 'lightgreen', 'lightgreen']\n",
    "for bplot in (bplot1, bplot2):\n",
    "    for patch, color in zip(bplot['boxes'], colormap):\n",
    "        patch.set_facecolor(color)\n",
    "        patch.set_alpha(0.5)\n",
    "\n",
    "@ticker.FuncFormatter\n",
    "def major_formatter(x, pos):\n",
    "    label = \"$10^{\"+str(int(math.log10(abs(x))))+\"}$\" if x!=0 else \"\"\n",
    "    return label\n",
    "\n",
    "\n",
    "plt.yscale(\"symlog\")\n",
    "ax1.set_yscale(\"symlog\")\n",
    "ax = plt.gca()\n",
    "ax1.set_ylim(bottom=1)\n",
    "ax2.set_ylim(top=-1)\n",
    "\n",
    "\n",
    "ax1.yaxis.set_major_formatter(major_formatter)\n",
    "ax2.yaxis.set_major_formatter(major_formatter)\n",
    "\n",
    "plt.xticks(list(range(1, len(methods) + 1)),methods)\n",
    "\n",
    "ax2.set_ylabel(r'Underestimation $\\leftarrow$ Q-Error $\\rightarrow$ Overestimation')\n",
    "ax2.yaxis.set_label_coords(x = -0.08, y= 1)\n",
    "\n",
    "if save_plots:\n",
    "    print(f\"Saving Boxplot\")\n",
    "    plt.savefig(f\"/home/tim/Datasets/plots/{dataset}_{query_type}_boxplot.pdf\")\n"
   ]
  },
  {
   "cell_type": "markdown",
   "id": "3781ecce",
   "metadata": {},
   "source": [
    "#### Barplots against Query Size"
   ]
  },
  {
   "cell_type": "code",
   "execution_count": null,
   "id": "91bdedf6",
   "metadata": {},
   "outputs": [],
   "source": [
    "Bins = [2,3,5, 8]"
   ]
  },
  {
   "cell_type": "code",
   "execution_count": null,
   "id": "e813c316",
   "metadata": {},
   "outputs": [],
   "source": [
    "# Creating Barplot Data\n",
    "barplots_size_data = {}\n",
    "for method in methods:\n",
    "    print(method)\n",
    "    barplots_size_data[method] = barplot_size(gts_dict[method], preds_dict[method], sizes_dict[method][:len(gts_dict[method])])"
   ]
  },
  {
   "cell_type": "code",
   "execution_count": null,
   "id": "bfccf2f4",
   "metadata": {},
   "outputs": [],
   "source": [
    "\n",
    "#plt.style.use('grayscale')\n",
    "\n",
    "bar_cycle = (cycler('hatch', ['//////', '-----', '...','oooo', 'xxx','**', 'OOO', '\\\\\\\\']))\n",
    "styles = bar_cycle()\n",
    "\n",
    "colormap = mpl.cm.tab10.colors\n",
    "\n",
    "\n",
    "\n",
    "data = list(barplots_size_data.values())\n",
    "labels = methods_labels\n",
    "X_Axis = np.arange(len(data[0]))[:]\n",
    "\n",
    "\n",
    "for i in range(len(data)):\n",
    "    hatch_color = list(colormap[i])\n",
    "    plt.rcParams['hatch.color'] = colormap[i]\n",
    "    plt.bar(X_Axis - 0.4 + 0.1*i,data[i][:], 0.1, label=labels[i][:], color=colormap[i], alpha=0.7, **next(styles))\n",
    "\n",
    "\n",
    "plt.yscale(\"log\")\n",
    "#plt.ylim(0,1e15)\n",
    "plt.legend(ncol=2)\n",
    "#plt.xticks(X_Axis, [\"1\", \"2\", \"3\", \"5\"])\n",
    "plt.xticks(X_Axis, [\"2\", \"3\", \"5\", \"8\"])\n",
    "\n",
    "#plt.xticks(X_Axis, [\"$< 5$\", \"$< 5^2$\", \"< $5^3$\", \"< $5^4$\", \"< $5^5$\", \"< $5^9$\"])\n",
    "\n",
    "plt.xlabel(\"Query Size\")\n",
    "plt.ylabel(\"Mean Q-Error\")\n",
    "if save_plots:\n",
    "    print(f\"Saving Cardinality Barplot\")\n",
    "    plt.savefig(f\"/home/tim/Datasets/plots/{dataset}_{query_type}_barplot_size.png\")"
   ]
  },
  {
   "cell_type": "markdown",
   "id": "e4631047",
   "metadata": {},
   "source": [
    "# Plotting of total Q Errors per method"
   ]
  },
  {
   "cell_type": "markdown",
   "id": "3ce6f2c0",
   "metadata": {},
   "source": [
    "## Raw Mean of all Predictions "
   ]
  },
  {
   "cell_type": "code",
   "execution_count": null,
   "id": "4b94f7f1",
   "metadata": {
    "scrolled": true
   },
   "outputs": [],
   "source": [
    "for method in methods:\n",
    "    print(f'Mean Q-Error for {method}')\n",
    "    print(np.mean(q_error(gts_dict[method], preds_dict[method])))\n",
    "    print('\\n')"
   ]
  },
  {
   "cell_type": "markdown",
   "id": "ff618d3e",
   "metadata": {},
   "source": [
    "## Mean after averaging over Query Size "
   ]
  },
  {
   "cell_type": "code",
   "execution_count": null,
   "id": "1c65c834",
   "metadata": {},
   "outputs": [],
   "source": [
    "for i in range(len(data)):\n",
    "    print(f' Q-Error pro tp size for {methods[i]}: ')\n",
    "    print(data[i])\n",
    "    print(f'Mean Q-Error for {methods[i]}')\n",
    "    print(np.mean(data[i]))#\n",
    "    print('\\n')"
   ]
  },
  {
   "cell_type": "markdown",
   "id": "edf60060",
   "metadata": {},
   "source": [
    "## Mean after averaging over Query Cardinality "
   ]
  },
  {
   "cell_type": "code",
   "execution_count": null,
   "id": "1e948654",
   "metadata": {},
   "outputs": [],
   "source": [
    "for i in range(len(data)):\n",
    "    print(f'Mean Q-Error for {methods[i]}')\n",
    "    print(np.mean(list(barplots_cardinality_data.values())[i]))\n",
    "    print('\\n')"
   ]
  },
  {
   "cell_type": "code",
   "execution_count": null,
   "id": "0db6c78c",
   "metadata": {},
   "outputs": [],
   "source": []
  }
 ],
 "metadata": {
  "kernelspec": {
   "display_name": "Python 3 (ipykernel)",
   "language": "python",
   "name": "python3"
  },
  "language_info": {
   "codemirror_mode": {
    "name": "ipython",
    "version": 3
   },
   "file_extension": ".py",
   "mimetype": "text/x-python",
   "name": "python",
   "nbconvert_exporter": "python",
   "pygments_lexer": "ipython3",
   "version": "3.8.18"
  }
 },
 "nbformat": 4,
 "nbformat_minor": 5
}
