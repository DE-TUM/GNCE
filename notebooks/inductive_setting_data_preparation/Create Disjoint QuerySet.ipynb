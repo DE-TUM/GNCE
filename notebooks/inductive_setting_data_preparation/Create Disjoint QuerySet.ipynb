{
 "cells": [
  {
   "cell_type": "code",
   "execution_count": 1,
   "id": "606cb11a",
   "metadata": {},
   "outputs": [],
   "source": [
    "import json\n",
    "import random\n",
    "from tqdm import tqdm\n",
    "import copy\n",
    "import matplotlib.pyplot as plt"
   ]
  },
  {
   "cell_type": "code",
   "execution_count": 2,
   "id": "f2fa1d7d",
   "metadata": {},
   "outputs": [],
   "source": [
    "dataset = 'yago'\n",
    "query_type = 'star'"
   ]
  },
  {
   "cell_type": "code",
   "execution_count": 77,
   "id": "5ebe4397",
   "metadata": {},
   "outputs": [],
   "source": [
    "with open(f\"/home/tim/Datasets/{dataset}/{query_type}/Joined_Queries.json\") as f:\n",
    "    data = json.load(f)"
   ]
  },
  {
   "cell_type": "code",
   "execution_count": 78,
   "id": "fe04696f",
   "metadata": {},
   "outputs": [],
   "source": [
    "# This hyperparameter denotes the probability of applying a query to the trainset. It very\n",
    "# sensibly influences the final splits, need to adjustit !\n",
    "# Default Value: 0.002 (swdf), 0.0005 (yago star)\n",
    "training_st_prob = 0.002"
   ]
  },
  {
   "cell_type": "code",
   "execution_count": 171,
   "id": "acb7e9e2",
   "metadata": {},
   "outputs": [
    {
     "name": "stderr",
     "output_type": "stream",
     "text": [
      "100%|████████████████████████████████████████████████████████████████████████████████████████████████████████████████████████████████████████████████████████████| 91162/91162 [00:00<00:00, 539883.49it/s]\n"
     ]
    }
   ],
   "source": [
    "# Testing with respect to invariance of triple permutation\n",
    "# Attention ! THis implementation only checks for overlapping Stars !\n",
    "train_data = []\n",
    "test_data = []\n",
    "\n",
    "train_entities = set()\n",
    "test_entities = set()\n",
    "\n",
    "random.shuffle(data)\n",
    "\n",
    "for query in tqdm(data):\n",
    "    if len(train_data)==0:\n",
    "        train_data.append(query)\n",
    "        train_entities.update([a[2] for a in query[\"triples\"] if not \"?\" in a[2]])\n",
    "        continue\n",
    "    if len(train_data) < 0.0005 * (len(data)):\n",
    "        train_data.append(query)\n",
    "        train_entities.update([a[2] for a in query[\"triples\"] if not \"?\" in a[2]]) \n",
    "        continue\n",
    "\n",
    "    # Getting all objects of query:\n",
    "    entity_list = [a[2] for a in query[\"triples\"] if not \"?\" in a[2]] \n",
    "    if any(entity in train_entities for entity in entity_list):\n",
    "        if all(entity not in test_entities for entity in entity_list):\n",
    "            train_entities.update(entity_list)\n",
    "            train_data.append(query)\n",
    "    else:\n",
    "        test_data.append(query)\n",
    "        test_entities.update(entity_list)\n",
    "\n",
    "\n",
    "\n"
   ]
  },
  {
   "cell_type": "markdown",
   "id": "33b2963a",
   "metadata": {},
   "source": [
    "#### Rechecking if there are overlapping entities"
   ]
  },
  {
   "cell_type": "code",
   "execution_count": 172,
   "id": "fd2a6721",
   "metadata": {},
   "outputs": [
    {
     "name": "stderr",
     "output_type": "stream",
     "text": [
      "100%|███████████████████████████████████████████████████████████████████████████████████████████████████████████████████████████████████████████████████████████| 14706/14706 [00:00<00:00, 1902045.53it/s]\n"
     ]
    }
   ],
   "source": [
    "for e in tqdm(test_entities):\n",
    "    if e in train_entities:\n",
    "        print('Error: Overlapping Entities !')"
   ]
  },
  {
   "cell_type": "code",
   "execution_count": 173,
   "id": "e29c2cf5",
   "metadata": {},
   "outputs": [
    {
     "name": "stdout",
     "output_type": "stream",
     "text": [
      "Summary of disjoint split: \n",
      "Number of queries in training set: 46935\n",
      "Number of queries in test set: 33833\n"
     ]
    }
   ],
   "source": [
    "print('Summary of disjoint split: ')\n",
    "print(f'Number of queries in training set: {len(train_data)}')\n",
    "print(f'Number of queries in test set: {len(test_data)}')"
   ]
  },
  {
   "cell_type": "markdown",
   "id": "5afcbc87",
   "metadata": {},
   "source": [
    "#### Checking distribution of query sizes among sets"
   ]
  },
  {
   "cell_type": "code",
   "execution_count": 174,
   "id": "b5cc28b3",
   "metadata": {},
   "outputs": [],
   "source": [
    "ls = []\n",
    "for t in train_data:\n",
    "    ls.append(len(t[\"triples\"]))\n",
    "ls_test = []\n",
    "for t in test_data:\n",
    "    ls_test.append(len(t[\"triples\"]))"
   ]
  },
  {
   "cell_type": "code",
   "execution_count": 175,
   "id": "f7031cf1",
   "metadata": {},
   "outputs": [
    {
     "data": {
      "text/plain": [
       "(array([ 1012.,  1365.,     0.,     0.,     0., 20202.,     0.,     0.,\n",
       "            0., 24356.]),\n",
       " array([2. , 2.6, 3.2, 3.8, 4.4, 5. , 5.6, 6.2, 6.8, 7.4, 8. ]),\n",
       " <BarContainer object of 10 artists>)"
      ]
     },
     "execution_count": 175,
     "metadata": {},
     "output_type": "execute_result"
    },
    {
     "data": {
      "image/png": "[encoded data removed]",
      "text/plain": [
       "<Figure size 640x480 with 1 Axes>"
      ]
     },
     "metadata": {},
     "output_type": "display_data"
    }
   ],
   "source": [
    "plt.hist(ls)"
   ]
  },
  {
   "cell_type": "code",
   "execution_count": 176,
   "id": "c4b0461c",
   "metadata": {},
   "outputs": [
    {
     "data": {
      "text/plain": [
       "(array([12211., 20001.,     0.,     0.,     0.,  1309.,     0.,     0.,\n",
       "            0.,   312.]),\n",
       " array([2. , 2.6, 3.2, 3.8, 4.4, 5. , 5.6, 6.2, 6.8, 7.4, 8. ]),\n",
       " <BarContainer object of 10 artists>)"
      ]
     },
     "execution_count": 176,
     "metadata": {},
     "output_type": "execute_result"
    },
    {
     "data": {
      "image/png": "[encoded data removed]",
      "text/plain": [
       "<Figure size 640x480 with 1 Axes>"
      ]
     },
     "metadata": {},
     "output_type": "display_data"
    }
   ],
   "source": [
    "plt.hist(ls_test)"
   ]
  },
  {
   "cell_type": "markdown",
   "id": "4ed479ba",
   "metadata": {},
   "source": [
    "#### If everything looks okay, save the data"
   ]
  },
  {
   "cell_type": "code",
   "execution_count": 110,
   "id": "c9cd22cf",
   "metadata": {},
   "outputs": [],
   "source": [
    "with open(f\"/home/tim/Datasets/{dataset}/{query_type}/disjoint_train.json\", \"w\") as f:\n",
    "    json.dump(train_data, f)\n",
    "with open(f\"/home/tim/Datasets/{dataset}/{query_type}/disjoint_test.json\", \"w\") as f:\n",
    "    json.dump(test_data, f)"
   ]
  }
 ],
 "metadata": {
  "kernelspec": {
   "display_name": "Python 3 (ipykernel)",
   "language": "python",
   "name": "python3"
  },
  "language_info": {
   "codemirror_mode": {
    "name": "ipython",
    "version": 3
   },
   "file_extension": ".py",
   "mimetype": "text/x-python",
   "name": "python",
   "nbconvert_exporter": "python",
   "pygments_lexer": "ipython3",
   "version": "3.9.18"
  }
 },
 "nbformat": 4,
 "nbformat_minor": 5
}
